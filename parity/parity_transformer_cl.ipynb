{
 "cells": [
  {
   "cell_type": "code",
   "execution_count": 1,
   "metadata": {},
   "outputs": [],
   "source": [
    "import torch\n",
    "from torch.utils.data import Dataset, IterableDataset, DataLoader\n",
    "import torch.nn as nn\n",
    "import random\n",
    "import numpy as np\n",
    "import math\n",
    "from tqdm.auto import tqdm\n",
    "import torchmetrics"
   ]
  },
  {
   "cell_type": "code",
   "execution_count": 25,
   "metadata": {},
   "outputs": [],
   "source": [
    "experiment_config = {\n",
    "    'obj_size': 2,\n",
    "    'obs_size': 32,\n",
    "}\n",
    "model_config = {\n",
    "    'd_model': 128,\n",
    "    'n_head': 32,\n",
    "    'num_layers': 2,\n",
    "    'num_obj': 2,\n",
    "}\n",
    "training_config = {\n",
    "    'batch_size':1024,\n",
    "    'lr': 1e-4,\n",
    "    'max_step': 10000\n",
    "}"
   ]
  },
  {
   "cell_type": "code",
   "execution_count": 26,
   "metadata": {},
   "outputs": [],
   "source": [
    "device = torch.device('cuda')"
   ]
  },
  {
   "cell_type": "code",
   "execution_count": 21,
   "metadata": {},
   "outputs": [
    {
     "name": "stdout",
     "output_type": "stream",
     "text": [
      "tensor([0, 1, 1, 0, 1, 1, 0, 0, 0, 0, 0, 0, 1, 1, 0, 0, 1, 0, 1, 0, 0, 0, 0, 1,\n",
      "        1, 1, 0, 1, 0, 0, 0, 0])\n",
      "tensor(0)\n"
     ]
    }
   ],
   "source": [
    "class SymbolicWorldIterableDataset(IterableDataset):\n",
    "\n",
    "    def __init__(self, num_objects, observation_size):\n",
    "        self.num_objects = num_objects\n",
    "        self.observation_size = observation_size\n",
    "        pass\n",
    "\n",
    "    def generate_observation(self):\n",
    "        observation = torch.randint(0, self.num_objects, (self.observation_size,))\n",
    "\n",
    "        parity_1 = ((observation == 1).sum())%2\n",
    "        return {'observation':observation, 'parity_1':parity_1}\n",
    "\n",
    "    def __iter__(self):\n",
    "        while(True):\n",
    "            yield self.generate_observation()\n",
    "\n",
    "iterable_dataset = SymbolicWorldIterableDataset(experiment_config['obj_size'], experiment_config['obs_size'])\n",
    "loader = DataLoader(iterable_dataset, batch_size=training_config['batch_size'])\n",
    "\n",
    "test_loaders_list = []\n",
    "for observation_size in [1,2,4,8,16]:\n",
    "    test_loader_name = f'observation_size_{observation_size}'\n",
    "    test_loader_data = DataLoader(SymbolicWorldIterableDataset(experiment_config['obj_size'], observation_size),\\\n",
    "        batch_size=training_config['batch_size'])\n",
    "    test_loaders_list.append({\n",
    "        'name': test_loader_name,\n",
    "        'data_loader': test_loader_data\n",
    "    })\n",
    "\n",
    "if True:\n",
    "    for a in loader:\n",
    "        print(a['observation'][0])\n",
    "        print(a['parity_1'][0])\n",
    "        break\n"
   ]
  },
  {
   "cell_type": "code",
   "execution_count": 27,
   "metadata": {},
   "outputs": [],
   "source": [
    "class MySimpleModel(nn.Module):\n",
    "    \n",
    "    def __init__(self, model_config):\n",
    "        super(MySimpleModel, self).__init__()\n",
    "        d_model = model_config['d_model']\n",
    "        n_heads = model_config['n_head']\n",
    "        n_layers = model_config['num_layers']\n",
    "        n_objects = model_config['num_obj']\n",
    "        n_clss = 5\n",
    "        self.d_model = d_model\n",
    "        self.encoder_layer = nn.TransformerEncoderLayer(d_model=d_model, nhead=n_heads, dim_feedforward=2*d_model, batch_first=True)\n",
    "        self.transformer_layer = torch.nn.TransformerEncoder(self.encoder_layer, n_layers)\n",
    "        self.token_embedding = torch.nn.Embedding(n_objects, d_model)\n",
    "        self.clss_embedding = torch.nn.Embedding(n_clss, d_model)\n",
    "        self.fc1 = torch.nn.Linear(d_model, 2)\n",
    "        \n",
    "    def forward(self, x, clss):\n",
    "        '''\n",
    "        x : long tensor: [batch, seq_len]\n",
    "        clss: long tensor: [batch, 1]\n",
    "        return: tensor: [batch, 2]\n",
    "        '''\n",
    "        temp = x\n",
    "        temp = self.token_embedding(temp)\n",
    "        clss_embedding = self.clss_embedding(clss)\n",
    "        temp = torch.cat((clss_embedding, temp), dim=1)\n",
    "        temp = self.transformer_layer(temp)\n",
    "        temp = temp[:, 0, :]\n",
    "        temp = self.fc1(temp)\n",
    "        return temp"
   ]
  },
  {
   "cell_type": "code",
   "execution_count": 31,
   "metadata": {},
   "outputs": [],
   "source": [
    "model = MySimpleModel(model_config).to(device)\n",
    "loss_module = nn.CrossEntropyLoss()\n",
    "optimizer = torch.optim.Adam(model.parameters(), lr=training_config['lr'])\n",
    "f1_module = torchmetrics.F1Score(num_classes=2).to(device)"
   ]
  },
  {
   "cell_type": "code",
   "execution_count": 32,
   "metadata": {},
   "outputs": [],
   "source": [
    "def eval(test_loader):\n",
    "    with torch.no_grad():\n",
    "            test_f1s = []\n",
    "            for j, batch in enumerate(test_loader):\n",
    "                x = batch['observation'].to(device)\n",
    "                clss = torch.ones((x.shape[0], 1)).long().to(device)\n",
    "                y = batch['parity_1'].to(device)\n",
    "                output = model(x, clss)\n",
    "                preds = output.argmax(dim=1)\n",
    "                test_f1s.append(f1_module(preds, y).item())\n",
    "                if j > 10:\n",
    "                    break\n",
    "            f1 = sum(test_f1s)/len(test_f1s)\n",
    "            return round(f1, 4)"
   ]
  },
  {
   "cell_type": "code",
   "execution_count": 34,
   "metadata": {},
   "outputs": [
    {
     "data": {
      "application/vnd.jupyter.widget-view+json": {
       "model_id": "09c73b2558fe43f0bb244ba8b047fc10",
       "version_major": 2,
       "version_minor": 0
      },
      "text/plain": [
       "  0%|          | 0/2000 [00:00<?, ?it/s]"
      ]
     },
     "metadata": {},
     "output_type": "display_data"
    },
    {
     "name": "stdout",
     "output_type": "stream",
     "text": [
      "step 0\n",
      "loss: 3.35e+00\n",
      "train f1:  0.7402\n",
      "observation_size_1  f1_score:  1.0\n",
      "observation_size_2  f1_score:  0.7427\n",
      "observation_size_4  f1_score:  0.3498\n",
      "observation_size_8  f1_score:  0.5505\n",
      "observation_size_16  f1_score:  0.5067\n",
      "------------------------\n",
      "step 200\n",
      "loss: 2.98e-01\n",
      "train f1:  1.0\n",
      "observation_size_1  f1_score:  0.495\n",
      "observation_size_2  f1_score:  0.9999\n",
      "observation_size_4  f1_score:  0.6156\n",
      "observation_size_8  f1_score:  0.4726\n",
      "observation_size_16  f1_score:  0.494\n",
      "------------------------\n",
      "step 400\n",
      "loss: 1.41e-04\n",
      "train f1:  1.0\n",
      "observation_size_1  f1_score:  0.5061\n",
      "observation_size_2  f1_score:  1.0\n",
      "observation_size_4  f1_score:  0.6141\n",
      "observation_size_8  f1_score:  0.4775\n",
      "observation_size_16  f1_score:  0.5077\n",
      "------------------------\n",
      "step 600\n",
      "loss: 6.47e-05\n",
      "train f1:  1.0\n",
      "observation_size_1  f1_score:  0.497\n",
      "observation_size_2  f1_score:  1.0\n",
      "observation_size_4  f1_score:  0.6235\n",
      "observation_size_8  f1_score:  0.4741\n",
      "observation_size_16  f1_score:  0.4962\n",
      "------------------------\n",
      "step 800\n",
      "loss: 4.67e-05\n",
      "train f1:  1.0\n",
      "observation_size_1  f1_score:  0.5044\n",
      "observation_size_2  f1_score:  1.0\n",
      "observation_size_4  f1_score:  0.6218\n",
      "observation_size_8  f1_score:  0.4749\n",
      "observation_size_16  f1_score:  0.4952\n",
      "------------------------\n"
     ]
    },
    {
     "ename": "KeyboardInterrupt",
     "evalue": "",
     "output_type": "error",
     "traceback": [
      "\u001b[0;31m---------------------------------------------------------------------------\u001b[0m",
      "\u001b[0;31mKeyboardInterrupt\u001b[0m                         Traceback (most recent call last)",
      "\u001b[1;32m/home/mmsamiei/symbolic-world/parity/parity_transformer_cl.ipynb Cell 8'\u001b[0m in \u001b[0;36m<cell line: 9>\u001b[0;34m()\u001b[0m\n\u001b[1;32m     <a href='vscode-notebook-cell://ssh-remote%2B192.168.198.96/home/mmsamiei/symbolic-world/parity/parity_transformer_cl.ipynb#ch0000007vscode-remote?line=11'>12</a>\u001b[0m y \u001b[39m=\u001b[39m batch[\u001b[39m'\u001b[39m\u001b[39mparity_1\u001b[39m\u001b[39m'\u001b[39m]\u001b[39m.\u001b[39mto(device)\n\u001b[1;32m     <a href='vscode-notebook-cell://ssh-remote%2B192.168.198.96/home/mmsamiei/symbolic-world/parity/parity_transformer_cl.ipynb#ch0000007vscode-remote?line=12'>13</a>\u001b[0m optimizer\u001b[39m.\u001b[39mzero_grad()\n\u001b[0;32m---> <a href='vscode-notebook-cell://ssh-remote%2B192.168.198.96/home/mmsamiei/symbolic-world/parity/parity_transformer_cl.ipynb#ch0000007vscode-remote?line=13'>14</a>\u001b[0m output \u001b[39m=\u001b[39m model(x, clss)\n\u001b[1;32m     <a href='vscode-notebook-cell://ssh-remote%2B192.168.198.96/home/mmsamiei/symbolic-world/parity/parity_transformer_cl.ipynb#ch0000007vscode-remote?line=14'>15</a>\u001b[0m loss \u001b[39m=\u001b[39m loss_module(output, y)\n\u001b[1;32m     <a href='vscode-notebook-cell://ssh-remote%2B192.168.198.96/home/mmsamiei/symbolic-world/parity/parity_transformer_cl.ipynb#ch0000007vscode-remote?line=15'>16</a>\u001b[0m loss_history\u001b[39m.\u001b[39mappend(loss\u001b[39m.\u001b[39mitem())\n",
      "File \u001b[0;32m~/venv/lib/python3.8/site-packages/torch/nn/modules/module.py:1102\u001b[0m, in \u001b[0;36mModule._call_impl\u001b[0;34m(self, *input, **kwargs)\u001b[0m\n\u001b[1;32m   1098\u001b[0m \u001b[39m# If we don't have any hooks, we want to skip the rest of the logic in\u001b[39;00m\n\u001b[1;32m   1099\u001b[0m \u001b[39m# this function, and just call forward.\u001b[39;00m\n\u001b[1;32m   1100\u001b[0m \u001b[39mif\u001b[39;00m \u001b[39mnot\u001b[39;00m (\u001b[39mself\u001b[39m\u001b[39m.\u001b[39m_backward_hooks \u001b[39mor\u001b[39;00m \u001b[39mself\u001b[39m\u001b[39m.\u001b[39m_forward_hooks \u001b[39mor\u001b[39;00m \u001b[39mself\u001b[39m\u001b[39m.\u001b[39m_forward_pre_hooks \u001b[39mor\u001b[39;00m _global_backward_hooks\n\u001b[1;32m   1101\u001b[0m         \u001b[39mor\u001b[39;00m _global_forward_hooks \u001b[39mor\u001b[39;00m _global_forward_pre_hooks):\n\u001b[0;32m-> 1102\u001b[0m     \u001b[39mreturn\u001b[39;00m forward_call(\u001b[39m*\u001b[39;49m\u001b[39minput\u001b[39;49m, \u001b[39m*\u001b[39;49m\u001b[39m*\u001b[39;49mkwargs)\n\u001b[1;32m   1103\u001b[0m \u001b[39m# Do not call functions when jit is used\u001b[39;00m\n\u001b[1;32m   1104\u001b[0m full_backward_hooks, non_full_backward_hooks \u001b[39m=\u001b[39m [], []\n",
      "\u001b[1;32m/home/mmsamiei/symbolic-world/parity/parity_transformer_cl.ipynb Cell 5'\u001b[0m in \u001b[0;36mMySimpleModel.forward\u001b[0;34m(self, x, clss)\u001b[0m\n\u001b[1;32m     <a href='vscode-notebook-cell://ssh-remote%2B192.168.198.96/home/mmsamiei/symbolic-world/parity/parity_transformer_cl.ipynb#ch0000004vscode-remote?line=24'>25</a>\u001b[0m clss_embedding \u001b[39m=\u001b[39m \u001b[39mself\u001b[39m\u001b[39m.\u001b[39mclss_embedding(clss)\n\u001b[1;32m     <a href='vscode-notebook-cell://ssh-remote%2B192.168.198.96/home/mmsamiei/symbolic-world/parity/parity_transformer_cl.ipynb#ch0000004vscode-remote?line=25'>26</a>\u001b[0m temp \u001b[39m=\u001b[39m torch\u001b[39m.\u001b[39mcat((clss_embedding, temp), dim\u001b[39m=\u001b[39m\u001b[39m1\u001b[39m)\n\u001b[0;32m---> <a href='vscode-notebook-cell://ssh-remote%2B192.168.198.96/home/mmsamiei/symbolic-world/parity/parity_transformer_cl.ipynb#ch0000004vscode-remote?line=26'>27</a>\u001b[0m temp \u001b[39m=\u001b[39m \u001b[39mself\u001b[39;49m\u001b[39m.\u001b[39;49mtransformer_layer(temp)\n\u001b[1;32m     <a href='vscode-notebook-cell://ssh-remote%2B192.168.198.96/home/mmsamiei/symbolic-world/parity/parity_transformer_cl.ipynb#ch0000004vscode-remote?line=27'>28</a>\u001b[0m temp \u001b[39m=\u001b[39m temp[:, \u001b[39m0\u001b[39m, :]\n\u001b[1;32m     <a href='vscode-notebook-cell://ssh-remote%2B192.168.198.96/home/mmsamiei/symbolic-world/parity/parity_transformer_cl.ipynb#ch0000004vscode-remote?line=28'>29</a>\u001b[0m temp \u001b[39m=\u001b[39m \u001b[39mself\u001b[39m\u001b[39m.\u001b[39mfc1(temp)\n",
      "File \u001b[0;32m~/venv/lib/python3.8/site-packages/torch/nn/modules/module.py:1102\u001b[0m, in \u001b[0;36mModule._call_impl\u001b[0;34m(self, *input, **kwargs)\u001b[0m\n\u001b[1;32m   1098\u001b[0m \u001b[39m# If we don't have any hooks, we want to skip the rest of the logic in\u001b[39;00m\n\u001b[1;32m   1099\u001b[0m \u001b[39m# this function, and just call forward.\u001b[39;00m\n\u001b[1;32m   1100\u001b[0m \u001b[39mif\u001b[39;00m \u001b[39mnot\u001b[39;00m (\u001b[39mself\u001b[39m\u001b[39m.\u001b[39m_backward_hooks \u001b[39mor\u001b[39;00m \u001b[39mself\u001b[39m\u001b[39m.\u001b[39m_forward_hooks \u001b[39mor\u001b[39;00m \u001b[39mself\u001b[39m\u001b[39m.\u001b[39m_forward_pre_hooks \u001b[39mor\u001b[39;00m _global_backward_hooks\n\u001b[1;32m   1101\u001b[0m         \u001b[39mor\u001b[39;00m _global_forward_hooks \u001b[39mor\u001b[39;00m _global_forward_pre_hooks):\n\u001b[0;32m-> 1102\u001b[0m     \u001b[39mreturn\u001b[39;00m forward_call(\u001b[39m*\u001b[39;49m\u001b[39minput\u001b[39;49m, \u001b[39m*\u001b[39;49m\u001b[39m*\u001b[39;49mkwargs)\n\u001b[1;32m   1103\u001b[0m \u001b[39m# Do not call functions when jit is used\u001b[39;00m\n\u001b[1;32m   1104\u001b[0m full_backward_hooks, non_full_backward_hooks \u001b[39m=\u001b[39m [], []\n",
      "File \u001b[0;32m~/venv/lib/python3.8/site-packages/torch/nn/modules/transformer.py:198\u001b[0m, in \u001b[0;36mTransformerEncoder.forward\u001b[0;34m(self, src, mask, src_key_padding_mask)\u001b[0m\n\u001b[1;32m    195\u001b[0m output \u001b[39m=\u001b[39m src\n\u001b[1;32m    197\u001b[0m \u001b[39mfor\u001b[39;00m mod \u001b[39min\u001b[39;00m \u001b[39mself\u001b[39m\u001b[39m.\u001b[39mlayers:\n\u001b[0;32m--> 198\u001b[0m     output \u001b[39m=\u001b[39m mod(output, src_mask\u001b[39m=\u001b[39;49mmask, src_key_padding_mask\u001b[39m=\u001b[39;49msrc_key_padding_mask)\n\u001b[1;32m    200\u001b[0m \u001b[39mif\u001b[39;00m \u001b[39mself\u001b[39m\u001b[39m.\u001b[39mnorm \u001b[39mis\u001b[39;00m \u001b[39mnot\u001b[39;00m \u001b[39mNone\u001b[39;00m:\n\u001b[1;32m    201\u001b[0m     output \u001b[39m=\u001b[39m \u001b[39mself\u001b[39m\u001b[39m.\u001b[39mnorm(output)\n",
      "File \u001b[0;32m~/venv/lib/python3.8/site-packages/torch/nn/modules/module.py:1102\u001b[0m, in \u001b[0;36mModule._call_impl\u001b[0;34m(self, *input, **kwargs)\u001b[0m\n\u001b[1;32m   1098\u001b[0m \u001b[39m# If we don't have any hooks, we want to skip the rest of the logic in\u001b[39;00m\n\u001b[1;32m   1099\u001b[0m \u001b[39m# this function, and just call forward.\u001b[39;00m\n\u001b[1;32m   1100\u001b[0m \u001b[39mif\u001b[39;00m \u001b[39mnot\u001b[39;00m (\u001b[39mself\u001b[39m\u001b[39m.\u001b[39m_backward_hooks \u001b[39mor\u001b[39;00m \u001b[39mself\u001b[39m\u001b[39m.\u001b[39m_forward_hooks \u001b[39mor\u001b[39;00m \u001b[39mself\u001b[39m\u001b[39m.\u001b[39m_forward_pre_hooks \u001b[39mor\u001b[39;00m _global_backward_hooks\n\u001b[1;32m   1101\u001b[0m         \u001b[39mor\u001b[39;00m _global_forward_hooks \u001b[39mor\u001b[39;00m _global_forward_pre_hooks):\n\u001b[0;32m-> 1102\u001b[0m     \u001b[39mreturn\u001b[39;00m forward_call(\u001b[39m*\u001b[39;49m\u001b[39minput\u001b[39;49m, \u001b[39m*\u001b[39;49m\u001b[39m*\u001b[39;49mkwargs)\n\u001b[1;32m   1103\u001b[0m \u001b[39m# Do not call functions when jit is used\u001b[39;00m\n\u001b[1;32m   1104\u001b[0m full_backward_hooks, non_full_backward_hooks \u001b[39m=\u001b[39m [], []\n",
      "File \u001b[0;32m~/venv/lib/python3.8/site-packages/torch/nn/modules/transformer.py:340\u001b[0m, in \u001b[0;36mTransformerEncoderLayer.forward\u001b[0;34m(self, src, src_mask, src_key_padding_mask)\u001b[0m\n\u001b[1;32m    338\u001b[0m \u001b[39melse\u001b[39;00m:\n\u001b[1;32m    339\u001b[0m     x \u001b[39m=\u001b[39m \u001b[39mself\u001b[39m\u001b[39m.\u001b[39mnorm1(x \u001b[39m+\u001b[39m \u001b[39mself\u001b[39m\u001b[39m.\u001b[39m_sa_block(x, src_mask, src_key_padding_mask))\n\u001b[0;32m--> 340\u001b[0m     x \u001b[39m=\u001b[39m \u001b[39mself\u001b[39m\u001b[39m.\u001b[39mnorm2(x \u001b[39m+\u001b[39m \u001b[39mself\u001b[39;49m\u001b[39m.\u001b[39;49m_ff_block(x))\n\u001b[1;32m    342\u001b[0m \u001b[39mreturn\u001b[39;00m x\n",
      "File \u001b[0;32m~/venv/lib/python3.8/site-packages/torch/nn/modules/transformer.py:355\u001b[0m, in \u001b[0;36mTransformerEncoderLayer._ff_block\u001b[0;34m(self, x)\u001b[0m\n\u001b[1;32m    354\u001b[0m \u001b[39mdef\u001b[39;00m \u001b[39m_ff_block\u001b[39m(\u001b[39mself\u001b[39m, x: Tensor) \u001b[39m-\u001b[39m\u001b[39m>\u001b[39m Tensor:\n\u001b[0;32m--> 355\u001b[0m     x \u001b[39m=\u001b[39m \u001b[39mself\u001b[39m\u001b[39m.\u001b[39mlinear2(\u001b[39mself\u001b[39;49m\u001b[39m.\u001b[39;49mdropout(\u001b[39mself\u001b[39;49m\u001b[39m.\u001b[39;49mactivation(\u001b[39mself\u001b[39;49m\u001b[39m.\u001b[39;49mlinear1(x))))\n\u001b[1;32m    356\u001b[0m     \u001b[39mreturn\u001b[39;00m \u001b[39mself\u001b[39m\u001b[39m.\u001b[39mdropout2(x)\n",
      "File \u001b[0;32m~/venv/lib/python3.8/site-packages/torch/nn/modules/module.py:1102\u001b[0m, in \u001b[0;36mModule._call_impl\u001b[0;34m(self, *input, **kwargs)\u001b[0m\n\u001b[1;32m   1098\u001b[0m \u001b[39m# If we don't have any hooks, we want to skip the rest of the logic in\u001b[39;00m\n\u001b[1;32m   1099\u001b[0m \u001b[39m# this function, and just call forward.\u001b[39;00m\n\u001b[1;32m   1100\u001b[0m \u001b[39mif\u001b[39;00m \u001b[39mnot\u001b[39;00m (\u001b[39mself\u001b[39m\u001b[39m.\u001b[39m_backward_hooks \u001b[39mor\u001b[39;00m \u001b[39mself\u001b[39m\u001b[39m.\u001b[39m_forward_hooks \u001b[39mor\u001b[39;00m \u001b[39mself\u001b[39m\u001b[39m.\u001b[39m_forward_pre_hooks \u001b[39mor\u001b[39;00m _global_backward_hooks\n\u001b[1;32m   1101\u001b[0m         \u001b[39mor\u001b[39;00m _global_forward_hooks \u001b[39mor\u001b[39;00m _global_forward_pre_hooks):\n\u001b[0;32m-> 1102\u001b[0m     \u001b[39mreturn\u001b[39;00m forward_call(\u001b[39m*\u001b[39;49m\u001b[39minput\u001b[39;49m, \u001b[39m*\u001b[39;49m\u001b[39m*\u001b[39;49mkwargs)\n\u001b[1;32m   1103\u001b[0m \u001b[39m# Do not call functions when jit is used\u001b[39;00m\n\u001b[1;32m   1104\u001b[0m full_backward_hooks, non_full_backward_hooks \u001b[39m=\u001b[39m [], []\n",
      "File \u001b[0;32m~/venv/lib/python3.8/site-packages/torch/nn/modules/dropout.py:58\u001b[0m, in \u001b[0;36mDropout.forward\u001b[0;34m(self, input)\u001b[0m\n\u001b[1;32m     57\u001b[0m \u001b[39mdef\u001b[39;00m \u001b[39mforward\u001b[39m(\u001b[39mself\u001b[39m, \u001b[39minput\u001b[39m: Tensor) \u001b[39m-\u001b[39m\u001b[39m>\u001b[39m Tensor:\n\u001b[0;32m---> 58\u001b[0m     \u001b[39mreturn\u001b[39;00m F\u001b[39m.\u001b[39;49mdropout(\u001b[39minput\u001b[39;49m, \u001b[39mself\u001b[39;49m\u001b[39m.\u001b[39;49mp, \u001b[39mself\u001b[39;49m\u001b[39m.\u001b[39;49mtraining, \u001b[39mself\u001b[39;49m\u001b[39m.\u001b[39;49minplace)\n",
      "File \u001b[0;32m~/venv/lib/python3.8/site-packages/torch/nn/functional.py:1169\u001b[0m, in \u001b[0;36mdropout\u001b[0;34m(input, p, training, inplace)\u001b[0m\n\u001b[1;32m   1167\u001b[0m \u001b[39mif\u001b[39;00m p \u001b[39m<\u001b[39m \u001b[39m0.0\u001b[39m \u001b[39mor\u001b[39;00m p \u001b[39m>\u001b[39m \u001b[39m1.0\u001b[39m:\n\u001b[1;32m   1168\u001b[0m     \u001b[39mraise\u001b[39;00m \u001b[39mValueError\u001b[39;00m(\u001b[39m\"\u001b[39m\u001b[39mdropout probability has to be between 0 and 1, \u001b[39m\u001b[39m\"\u001b[39m \u001b[39m\"\u001b[39m\u001b[39mbut got \u001b[39m\u001b[39m{}\u001b[39;00m\u001b[39m\"\u001b[39m\u001b[39m.\u001b[39mformat(p))\n\u001b[0;32m-> 1169\u001b[0m \u001b[39mreturn\u001b[39;00m _VF\u001b[39m.\u001b[39mdropout_(\u001b[39minput\u001b[39m, p, training) \u001b[39mif\u001b[39;00m inplace \u001b[39melse\u001b[39;00m _VF\u001b[39m.\u001b[39;49mdropout(\u001b[39minput\u001b[39m, p, training)\n",
      "File \u001b[0;32m~/venv/lib/python3.8/site-packages/torch/_VF.py:25\u001b[0m, in \u001b[0;36mVFModule.__getattr__\u001b[0;34m(self, attr)\u001b[0m\n\u001b[1;32m     22\u001b[0m     \u001b[39msuper\u001b[39m(VFModule, \u001b[39mself\u001b[39m)\u001b[39m.\u001b[39m\u001b[39m__init__\u001b[39m(name)\n\u001b[1;32m     23\u001b[0m     \u001b[39mself\u001b[39m\u001b[39m.\u001b[39mvf \u001b[39m=\u001b[39m torch\u001b[39m.\u001b[39m_C\u001b[39m.\u001b[39m_VariableFunctions\n\u001b[0;32m---> 25\u001b[0m \u001b[39mdef\u001b[39;00m \u001b[39m__getattr__\u001b[39m(\u001b[39mself\u001b[39m, attr):\n\u001b[1;32m     26\u001b[0m     \u001b[39mreturn\u001b[39;00m \u001b[39mgetattr\u001b[39m(\u001b[39mself\u001b[39m\u001b[39m.\u001b[39mvf, attr)\n",
      "\u001b[0;31mKeyboardInterrupt\u001b[0m: "
     ]
    }
   ],
   "source": [
    "iterable_dataset = SymbolicWorldIterableDataset(experiment_config['obj_size'], 2)\n",
    "loader = DataLoader(iterable_dataset, batch_size=training_config['batch_size'])\n",
    "\n",
    "\n",
    "loss_history = []\n",
    "max_steps = training_config['max_step']\n",
    "max_steps = 2000\n",
    "log_every_steps = 200\n",
    "for i, batch in tqdm(enumerate(loader), total=max_steps):\n",
    "    x = batch['observation'].to(device)\n",
    "    clss = torch.ones((x.shape[0], 1)).long().to(device)\n",
    "    y = batch['parity_1'].to(device)\n",
    "    optimizer.zero_grad()\n",
    "    output = model(x, clss)\n",
    "    loss = loss_module(output, y)\n",
    "    loss_history.append(loss.item())\n",
    "    loss.backward()\n",
    "    optimizer.step()\n",
    "    if i > max_steps:\n",
    "        break\n",
    "    if i % log_every_steps == 0 :\n",
    "        print(\"step {}\".format(i))\n",
    "        print(\"loss: {:.2e}\".format(sum(loss_history)/len(loss_history)))\n",
    "        loss_history = []\n",
    "        train_f1 = f1_module(output.argmax(dim=1), y).item()\n",
    "        print('train f1: ', round(train_f1,4))\n",
    "        for test_loader in test_loaders_list:\n",
    "            test_acc = eval(test_loader['data_loader'])\n",
    "            print(test_loader['name'], \" f1_score: \" , test_acc)\n",
    "        print('------------------------')"
   ]
  }
 ],
 "metadata": {
  "interpreter": {
   "hash": "73872a7625a445826f9d574d6c0b680d3fefaf18301176724424f6d82d4937fc"
  },
  "kernelspec": {
   "display_name": "Python 3.8.7 ('venv': venv)",
   "language": "python",
   "name": "python3"
  },
  "language_info": {
   "codemirror_mode": {
    "name": "ipython",
    "version": 3
   },
   "file_extension": ".py",
   "mimetype": "text/x-python",
   "name": "python",
   "nbconvert_exporter": "python",
   "pygments_lexer": "ipython3",
   "version": "3.8.7"
  },
  "orig_nbformat": 4
 },
 "nbformat": 4,
 "nbformat_minor": 2
}
