{
 "cells": [
  {
   "cell_type": "code",
   "execution_count": 10,
   "metadata": {},
   "outputs": [],
   "source": [
    "import torch\n",
    "from torch.utils.data import Dataset, IterableDataset, DataLoader\n",
    "import torch.nn as nn\n",
    "import random\n",
    "import numpy as np\n",
    "import math\n",
    "from tqdm.auto import tqdm\n",
    "import torchmetrics"
   ]
  },
  {
   "cell_type": "code",
   "execution_count": 11,
   "metadata": {},
   "outputs": [],
   "source": [
    "experiment_config = {\n",
    "    'obj_size': 2,\n",
    "    'obs_size': 2,\n",
    "}\n",
    "model_config = {\n",
    "    'd_model': 128,\n",
    "    'num_layers': 4,\n",
    "    'num_obj': 2,\n",
    "}\n",
    "training_config = {\n",
    "    'batch_size':1024,\n",
    "    'lr': 1e-5,\n",
    "    'max_step': 1000\n",
    "}"
   ]
  },
  {
   "cell_type": "code",
   "execution_count": 12,
   "metadata": {},
   "outputs": [],
   "source": [
    "device = torch.device('cuda')"
   ]
  },
  {
   "cell_type": "code",
   "execution_count": 24,
   "metadata": {},
   "outputs": [
    {
     "name": "stdout",
     "output_type": "stream",
     "text": [
      "tensor([1, 0])\n",
      "tensor(1)\n"
     ]
    }
   ],
   "source": [
    "class SymbolicWorldIterableDataset(IterableDataset):\n",
    "\n",
    "    def __init__(self, num_objects, observation_size):\n",
    "        self.num_objects = num_objects\n",
    "        self.observation_size = observation_size\n",
    "        pass\n",
    "\n",
    "    def generate_observation(self):\n",
    "        observation = torch.randint(0, self.num_objects, (self.observation_size,))\n",
    "\n",
    "        parity_1 = ((observation == 1).sum())%2\n",
    "        return {'observation':observation, 'parity_1':parity_1}\n",
    "\n",
    "    def __iter__(self):\n",
    "        while(True):\n",
    "            yield self.generate_observation()\n",
    "\n",
    "iterable_dataset = SymbolicWorldIterableDataset(experiment_config['obj_size'], experiment_config['obs_size'])\n",
    "loader = DataLoader(iterable_dataset, batch_size=training_config['batch_size'])\n",
    "\n",
    "test_loaders_list = []\n",
    "for observation_size in [4,8,16,32]:\n",
    "    test_loader_name = f'observation_size_{observation_size}'\n",
    "    test_loader_data = DataLoader(SymbolicWorldIterableDataset(experiment_config['obj_size'], observation_size),\\\n",
    "        batch_size=training_config['batch_size'])\n",
    "    test_loaders_list.append({\n",
    "        'name': test_loader_name,\n",
    "        'data_loader': test_loader_data\n",
    "    })\n",
    "\n",
    "if True:\n",
    "    for a in loader:\n",
    "        print(a['observation'][0])\n",
    "        print(a['parity_1'][0])\n",
    "        break\n"
   ]
  },
  {
   "cell_type": "code",
   "execution_count": 25,
   "metadata": {},
   "outputs": [],
   "source": [
    "class MySimpleModel(nn.Module):\n",
    "    \n",
    "    def __init__(self, model_config):\n",
    "        super(MySimpleModel, self).__init__()\n",
    "        d_model = model_config['d_model']\n",
    "        n_layers = model_config['num_layers']\n",
    "        n_objects = model_config['num_obj']\n",
    "        n_clss = 5\n",
    "        self.d_model = d_model\n",
    "        self.rnn = nn.LSTM(d_model, d_model, n_layers, batch_first = True)\n",
    "        self.token_embedding = torch.nn.Embedding(n_objects, d_model)\n",
    "        self.clss_embedding = torch.nn.Embedding(n_clss, d_model)\n",
    "        self.fc1 = torch.nn.Linear(d_model, 2)\n",
    "        \n",
    "    def forward(self, x, clss):\n",
    "        '''\n",
    "        x : long tensor: [batch, seq_len]\n",
    "        clss: long tensor: [batch, 1]\n",
    "        return: tensor: [batch, 2]\n",
    "        '''\n",
    "        temp = x\n",
    "        temp = self.token_embedding(temp)\n",
    "        clss_embedding = self.clss_embedding(clss)\n",
    "        temp = torch.cat((clss_embedding, temp), dim=1)\n",
    "        temp = self.rnn(temp)[0]\n",
    "        temp = temp[:,-1,:]\n",
    "        temp = self.fc1(temp)\n",
    "        return temp"
   ]
  },
  {
   "cell_type": "code",
   "execution_count": 26,
   "metadata": {},
   "outputs": [],
   "source": [
    "model = MySimpleModel(model_config).to(device)\n",
    "loss_module = nn.CrossEntropyLoss()\n",
    "optimizer = torch.optim.Adam(model.parameters(), lr=training_config['lr'])\n",
    "f1_module = torchmetrics.F1Score(num_classes=2).to(device)"
   ]
  },
  {
   "cell_type": "code",
   "execution_count": 27,
   "metadata": {},
   "outputs": [],
   "source": [
    "def eval(test_loader):\n",
    "    with torch.no_grad():\n",
    "            test_f1s = []\n",
    "            for j, batch in enumerate(test_loader):\n",
    "                x = batch['observation'].to(device)\n",
    "                clss = torch.ones((x.shape[0], 1)).long().to(device)\n",
    "                y = batch['parity_1'].to(device)\n",
    "                output = model(x, clss)\n",
    "                preds = output.argmax(dim=1)\n",
    "                test_f1s.append(f1_module(preds, y).item())\n",
    "                if j > 10:\n",
    "                    break\n",
    "            f1 = sum(test_f1s)/len(test_f1s)\n",
    "            return round(f1, 4)"
   ]
  },
  {
   "cell_type": "code",
   "execution_count": null,
   "metadata": {},
   "outputs": [],
   "source": [
    "for obs_size in [8,4,12]:\n",
    "    print('obs_size: ', obs_size)\n",
    "    iterable_dataset = SymbolicWorldIterableDataset(experiment_config['obj_size'], obs_size)\n",
    "    loader = DataLoader(iterable_dataset, batch_size=training_config['batch_size'])\n",
    "\n",
    "    loss_history = []\n",
    "    max_steps = training_config['max_step']\n",
    "    max_steps = 400\n",
    "    log_every_steps = 200\n",
    "    for i, batch in tqdm(enumerate(loader), total=max_steps, leave=False):\n",
    "        x = batch['observation'].to(device)\n",
    "        clss = torch.ones((x.shape[0], 1)).long().to(device)\n",
    "        y = batch['parity_1'].to(device)\n",
    "        optimizer.zero_grad()\n",
    "        output = model(x, clss)\n",
    "        loss = loss_module(output, y)\n",
    "        loss_history.append(loss.item())\n",
    "        loss.backward()\n",
    "        optimizer.step()\n",
    "        if i > max_steps:\n",
    "            break\n",
    "        if i % log_every_steps == 0 :\n",
    "            print(\"step {}\".format(i))\n",
    "            avg_loss = sum(loss_history)/len(loss_history)\n",
    "            print(\"loss: {:.2e}\".format(avg_loss))\n",
    "            loss_history = []\n",
    "            train_f1 = f1_module(output.argmax(dim=1), y).item()\n",
    "            print('train f1: ', round(train_f1,4))\n",
    "            for test_loader in test_loaders_list:\n",
    "                test_acc = eval(test_loader['data_loader'])\n",
    "                print(test_loader['name'], \" f1_score: \" , test_acc)\n",
    "            print('------------------------')\n",
    "            if avg_loss < 1e-8:\n",
    "                break"
   ]
  }
 ],
 "metadata": {
  "interpreter": {
   "hash": "73872a7625a445826f9d574d6c0b680d3fefaf18301176724424f6d82d4937fc"
  },
  "kernelspec": {
   "display_name": "Python 3.8.7 ('venv': venv)",
   "language": "python",
   "name": "python3"
  },
  "language_info": {
   "codemirror_mode": {
    "name": "ipython",
    "version": 3
   },
   "file_extension": ".py",
   "mimetype": "text/x-python",
   "name": "python",
   "nbconvert_exporter": "python",
   "pygments_lexer": "ipython3",
   "version": "3.8.7"
  },
  "orig_nbformat": 4
 },
 "nbformat": 4,
 "nbformat_minor": 2
}
