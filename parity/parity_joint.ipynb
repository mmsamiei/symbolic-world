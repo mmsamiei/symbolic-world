{
 "cells": [
  {
   "cell_type": "code",
   "execution_count": 17,
   "metadata": {},
   "outputs": [],
   "source": [
    "import torch\n",
    "from torch.utils.data import Dataset, IterableDataset, DataLoader\n",
    "import torch.nn as nn\n",
    "import random\n",
    "import numpy as np\n",
    "import math\n",
    "from tqdm.auto import tqdm\n",
    "import torchmetrics"
   ]
  },
  {
   "cell_type": "code",
   "execution_count": 18,
   "metadata": {},
   "outputs": [],
   "source": [
    "experiment_config = {\n",
    "    'obj_size': 8,\n",
    "    'obs_size': 8,\n",
    "}\n",
    "model_config = {\n",
    "    'd_model': 32,\n",
    "    'n_head': 2,\n",
    "    'num_layers': 2,\n",
    "    'num_obj': 8,\n",
    "}\n",
    "training_config = {\n",
    "    'batch_size':1024,\n",
    "    'lr': 5e-5,\n",
    "    'max_step': 10000\n",
    "}"
   ]
  },
  {
   "cell_type": "code",
   "execution_count": 19,
   "metadata": {},
   "outputs": [],
   "source": [
    "device = torch.device('cuda')"
   ]
  },
  {
   "cell_type": "code",
   "execution_count": 20,
   "metadata": {},
   "outputs": [
    {
     "name": "stdout",
     "output_type": "stream",
     "text": [
      "tensor([5, 3, 2, 5, 0, 5, 5, 5])\n",
      "tensor(0)\n"
     ]
    }
   ],
   "source": [
    "class SymbolicWorldIterableDataset(IterableDataset):\n",
    "\n",
    "    def __init__(self, num_objects, observation_size):\n",
    "        self.num_objects = num_objects\n",
    "        self.observation_size = observation_size\n",
    "        pass\n",
    "\n",
    "    def generate_observation(self):\n",
    "        observation = torch.randint(0, self.num_objects, (self.observation_size,))\n",
    "\n",
    "        parity_1 = ((observation == 1).sum())%2\n",
    "        return {'observation':observation, 'parity_1':parity_1}\n",
    "\n",
    "    def __iter__(self):\n",
    "        while(True):\n",
    "            yield self.generate_observation()\n",
    "\n",
    "iterable_dataset = SymbolicWorldIterableDataset(experiment_config['obj_size'], 8)\n",
    "loader1 = DataLoader(iterable_dataset, batch_size=training_config['batch_size'])\n",
    "iterable_dataset2 = SymbolicWorldIterableDataset(experiment_config['obj_size'], 4)\n",
    "loader2 = DataLoader(iterable_dataset2, batch_size=training_config['batch_size'])\n",
    "\n",
    "test_loaders_list = []\n",
    "for observation_size in [4,8,16,32,64]:\n",
    "    test_loader_name = f'observation_size_{observation_size}'\n",
    "    test_loader_data = DataLoader(SymbolicWorldIterableDataset(experiment_config['obj_size'], observation_size),\\\n",
    "        batch_size=training_config['batch_size'])\n",
    "    test_loaders_list.append({\n",
    "        'name': test_loader_name,\n",
    "        'data_loader': test_loader_data\n",
    "    })\n",
    "\n",
    "if True:\n",
    "    for a in loader:\n",
    "        print(a['observation'][0])\n",
    "        print(a['parity_1'][0])\n",
    "        break\n"
   ]
  },
  {
   "cell_type": "code",
   "execution_count": 21,
   "metadata": {},
   "outputs": [],
   "source": [
    "class MySimpleModel(nn.Module):\n",
    "    \n",
    "    def __init__(self, model_config):\n",
    "        super(MySimpleModel, self).__init__()\n",
    "        d_model = model_config['d_model']\n",
    "        n_heads = model_config['n_head']\n",
    "        n_layers = model_config['num_layers']\n",
    "        n_objects = model_config['num_obj']\n",
    "        n_clss = 5\n",
    "        self.d_model = d_model\n",
    "        self.encoder_layer = nn.TransformerEncoderLayer(d_model=d_model, nhead=n_heads, batch_first=True)\n",
    "        self.transformer_layer = torch.nn.TransformerEncoder(self.encoder_layer, n_layers)\n",
    "        self.token_embedding = torch.nn.Embedding(n_objects, d_model)\n",
    "        self.clss_embedding = torch.nn.Embedding(n_clss, d_model)\n",
    "        self.fc1 = torch.nn.Linear(d_model, 2)\n",
    "        \n",
    "    def forward(self, x, clss):\n",
    "        '''\n",
    "        x : long tensor: [batch, seq_len]\n",
    "        clss: long tensor: [batch, 1]\n",
    "        return: tensor: [batch, 2]\n",
    "        '''\n",
    "        temp = x\n",
    "        temp = self.token_embedding(temp)\n",
    "        clss_embedding = self.clss_embedding(clss)\n",
    "        temp = torch.cat((clss_embedding, temp), dim=1)\n",
    "        temp = self.transformer_layer(temp)\n",
    "        temp = temp[:, 0, :]\n",
    "        temp = self.fc1(temp)\n",
    "        return temp"
   ]
  },
  {
   "cell_type": "code",
   "execution_count": 22,
   "metadata": {},
   "outputs": [],
   "source": [
    "model = MySimpleModel(\n",
    "model_config).to(device)\n",
    "loss_module = nn.CrossEntropyLoss()\n",
    "optimizer = torch.optim.Adam(model.parameters(), lr=training_config['lr'])\n",
    "f1_module = torchmetrics.F1Score(num_classes=2).to(device)"
   ]
  },
  {
   "cell_type": "code",
   "execution_count": 23,
   "metadata": {},
   "outputs": [],
   "source": [
    "def eval(test_loader):\n",
    "    with torch.no_grad():\n",
    "            test_f1s = []\n",
    "            for j, batch in enumerate(test_loader):\n",
    "                x = batch['observation'].to(device)\n",
    "                clss = torch.ones((x.shape[0], 1)).long().to(device)\n",
    "                y = batch['parity_1'].to(device)\n",
    "                output = model(x, clss)\n",
    "                preds = output.argmax(dim=1)\n",
    "                test_f1s.append(f1_module(preds, y).item())\n",
    "                if j > 10:\n",
    "                    break\n",
    "            f1 = sum(test_f1s)/len(test_f1s)\n",
    "            return round(f1, 4)"
   ]
  },
  {
   "cell_type": "code",
   "execution_count": 25,
   "metadata": {},
   "outputs": [
    {
     "data": {
      "application/vnd.jupyter.widget-view+json": {
       "model_id": "6b7ad917938f4e199cfac0aa698b4553",
       "version_major": 2,
       "version_minor": 0
      },
      "text/plain": [
       "  0%|          | 0/10000 [00:00<?, ?it/s]"
      ]
     },
     "metadata": {},
     "output_type": "display_data"
    },
    {
     "name": "stdout",
     "output_type": "stream",
     "text": [
      "step 0\n",
      "loss: 8.81e-01\n",
      "train f1:  0.4414\n",
      "observation_size_4  f1_score:  0.3385\n",
      "observation_size_8  f1_score:  0.4481\n",
      "observation_size_16  f1_score:  0.4969\n",
      "observation_size_32  f1_score:  0.5093\n",
      "observation_size_64  f1_score:  0.4926\n",
      "------------------------\n",
      "step 200\n",
      "loss: 5.77e-01\n",
      "train f1:  0.7861\n",
      "observation_size_4  f1_score:  0.9523\n",
      "observation_size_8  f1_score:  0.7879\n",
      "observation_size_16  f1_score:  0.6114\n",
      "observation_size_32  f1_score:  0.5008\n",
      "observation_size_64  f1_score:  0.4954\n",
      "------------------------\n",
      "step 400\n",
      "loss: 1.89e-01\n",
      "train f1:  0.9668\n",
      "observation_size_4  f1_score:  0.63\n",
      "observation_size_8  f1_score:  0.9674\n",
      "observation_size_16  f1_score:  0.5141\n",
      "observation_size_32  f1_score:  0.5066\n",
      "observation_size_64  f1_score:  0.5072\n",
      "------------------------\n"
     ]
    },
    {
     "ename": "KeyboardInterrupt",
     "evalue": "",
     "output_type": "error",
     "traceback": [
      "\u001b[0;31m---------------------------------------------------------------------------\u001b[0m",
      "\u001b[0;31mKeyboardInterrupt\u001b[0m                         Traceback (most recent call last)",
      "\u001b[1;32m/home/mmsamiei/symbolic-world/parity/parity_joint.ipynb Cell 8'\u001b[0m in \u001b[0;36m<cell line: 7>\u001b[0;34m()\u001b[0m\n\u001b[1;32m     <a href='vscode-notebook-cell://ssh-remote%2B192.168.198.96/home/mmsamiei/symbolic-world/parity/parity_joint.ipynb#ch0000007vscode-remote?line=13'>14</a>\u001b[0m loss \u001b[39m=\u001b[39m loss_module(output, y)\n\u001b[1;32m     <a href='vscode-notebook-cell://ssh-remote%2B192.168.198.96/home/mmsamiei/symbolic-world/parity/parity_joint.ipynb#ch0000007vscode-remote?line=14'>15</a>\u001b[0m loss_history\u001b[39m.\u001b[39mappend(loss\u001b[39m.\u001b[39mitem())\n\u001b[0;32m---> <a href='vscode-notebook-cell://ssh-remote%2B192.168.198.96/home/mmsamiei/symbolic-world/parity/parity_joint.ipynb#ch0000007vscode-remote?line=15'>16</a>\u001b[0m loss\u001b[39m.\u001b[39;49mbackward()\n\u001b[1;32m     <a href='vscode-notebook-cell://ssh-remote%2B192.168.198.96/home/mmsamiei/symbolic-world/parity/parity_joint.ipynb#ch0000007vscode-remote?line=16'>17</a>\u001b[0m optimizer\u001b[39m.\u001b[39mstep()\n\u001b[1;32m     <a href='vscode-notebook-cell://ssh-remote%2B192.168.198.96/home/mmsamiei/symbolic-world/parity/parity_joint.ipynb#ch0000007vscode-remote?line=17'>18</a>\u001b[0m \u001b[39mif\u001b[39;00m i \u001b[39m>\u001b[39m max_steps:\n",
      "File \u001b[0;32m~/venv/lib/python3.8/site-packages/torch/_tensor.py:307\u001b[0m, in \u001b[0;36mTensor.backward\u001b[0;34m(self, gradient, retain_graph, create_graph, inputs)\u001b[0m\n\u001b[1;32m    298\u001b[0m \u001b[39mif\u001b[39;00m has_torch_function_unary(\u001b[39mself\u001b[39m):\n\u001b[1;32m    299\u001b[0m     \u001b[39mreturn\u001b[39;00m handle_torch_function(\n\u001b[1;32m    300\u001b[0m         Tensor\u001b[39m.\u001b[39mbackward,\n\u001b[1;32m    301\u001b[0m         (\u001b[39mself\u001b[39m,),\n\u001b[0;32m   (...)\u001b[0m\n\u001b[1;32m    305\u001b[0m         create_graph\u001b[39m=\u001b[39mcreate_graph,\n\u001b[1;32m    306\u001b[0m         inputs\u001b[39m=\u001b[39minputs)\n\u001b[0;32m--> 307\u001b[0m torch\u001b[39m.\u001b[39;49mautograd\u001b[39m.\u001b[39;49mbackward(\u001b[39mself\u001b[39;49m, gradient, retain_graph, create_graph, inputs\u001b[39m=\u001b[39;49minputs)\n",
      "File \u001b[0;32m~/venv/lib/python3.8/site-packages/torch/autograd/__init__.py:154\u001b[0m, in \u001b[0;36mbackward\u001b[0;34m(tensors, grad_tensors, retain_graph, create_graph, grad_variables, inputs)\u001b[0m\n\u001b[1;32m    151\u001b[0m \u001b[39mif\u001b[39;00m retain_graph \u001b[39mis\u001b[39;00m \u001b[39mNone\u001b[39;00m:\n\u001b[1;32m    152\u001b[0m     retain_graph \u001b[39m=\u001b[39m create_graph\n\u001b[0;32m--> 154\u001b[0m Variable\u001b[39m.\u001b[39;49m_execution_engine\u001b[39m.\u001b[39;49mrun_backward(\n\u001b[1;32m    155\u001b[0m     tensors, grad_tensors_, retain_graph, create_graph, inputs,\n\u001b[1;32m    156\u001b[0m     allow_unreachable\u001b[39m=\u001b[39;49m\u001b[39mTrue\u001b[39;49;00m, accumulate_grad\u001b[39m=\u001b[39;49m\u001b[39mTrue\u001b[39;49;00m)\n",
      "\u001b[0;31mKeyboardInterrupt\u001b[0m: "
     ]
    }
   ],
   "source": [
    "dataiter1 = iter(loader1)\n",
    "dataiter2 = iter(loader2)\n",
    "\n",
    "loss_history = []\n",
    "max_steps = training_config['max_step']\n",
    "log_every_steps = 200\n",
    "for i in tqdm(range(max_steps)):\n",
    "    if i % 1 == 0:\n",
    "        batch = dataiter1.next()\n",
    "    else:\n",
    "        batch = dataiter2.next()\n",
    "    x = batch['observation'].to(device)\n",
    "    clss = torch.ones((x.shape[0], 1)).long().to(device)\n",
    "    y = batch['parity_1'].to(device)\n",
    "    optimizer.zero_grad()\n",
    "    output = model(x, clss)\n",
    "    loss = loss_module(output, y)\n",
    "    loss_history.append(loss.item())\n",
    "    loss.backward()\n",
    "    optimizer.step()\n",
    "    if i > max_steps:\n",
    "        break\n",
    "    if i % log_every_steps == 0 :\n",
    "        print(\"step {}\".format(i))\n",
    "        print(\"loss: {:.2e}\".format(sum(loss_history)/len(loss_history)))\n",
    "        loss_history = []\n",
    "        train_f1 = f1_module(output.argmax(dim=1), y).item()\n",
    "        print('train f1: ', round(train_f1,4))\n",
    "        for test_loader in test_loaders_list:\n",
    "            test_acc = eval(test_loader['data_loader'])\n",
    "            print(test_loader['name'], \" f1_score: \" , test_acc)\n",
    "        print('------------------------')"
   ]
  }
 ],
 "metadata": {
  "interpreter": {
   "hash": "73872a7625a445826f9d574d6c0b680d3fefaf18301176724424f6d82d4937fc"
  },
  "kernelspec": {
   "display_name": "Python 3.8.7 ('venv': venv)",
   "language": "python",
   "name": "python3"
  },
  "language_info": {
   "codemirror_mode": {
    "name": "ipython",
    "version": 3
   },
   "file_extension": ".py",
   "mimetype": "text/x-python",
   "name": "python",
   "nbconvert_exporter": "python",
   "pygments_lexer": "ipython3",
   "version": "3.8.7"
  },
  "orig_nbformat": 4
 },
 "nbformat": 4,
 "nbformat_minor": 2
}
