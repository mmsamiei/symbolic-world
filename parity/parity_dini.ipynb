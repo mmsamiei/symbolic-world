{
 "cells": [
  {
   "cell_type": "code",
   "execution_count": 59,
   "metadata": {},
   "outputs": [],
   "source": [
    "import torch\n",
    "from torch.utils.data import Dataset, IterableDataset, DataLoader\n",
    "import torch.nn as nn\n",
    "import random\n",
    "import numpy as np\n",
    "import math\n",
    "from tqdm.auto import tqdm\n",
    "import torchmetrics\n",
    "import dini_machine"
   ]
  },
  {
   "cell_type": "code",
   "execution_count": 60,
   "metadata": {},
   "outputs": [],
   "source": [
    "def count_parameters(model):\n",
    "    return sum(p.numel() for p in model.parameters() if p.requires_grad)"
   ]
  },
  {
   "cell_type": "code",
   "execution_count": 61,
   "metadata": {},
   "outputs": [],
   "source": [
    "experiment_config = {\n",
    "    'obj_size': 4,\n",
    "    'obs_size': 16,\n",
    "}\n",
    "model_config = {\n",
    "    'd_model': 128,\n",
    "    'n_head': 8,\n",
    "    'num_layers': 2,\n",
    "    'num_obj': 4,\n",
    "    'num_funcs': 4\n",
    "}\n",
    "training_config = {\n",
    "    'batch_size':1024,\n",
    "    'lr': 5e-5,\n",
    "    'max_step': 10000\n",
    "}"
   ]
  },
  {
   "cell_type": "code",
   "execution_count": 62,
   "metadata": {},
   "outputs": [],
   "source": [
    "device = torch.device('cuda')"
   ]
  },
  {
   "cell_type": "code",
   "execution_count": 63,
   "metadata": {},
   "outputs": [
    {
     "name": "stdout",
     "output_type": "stream",
     "text": [
      "tensor([0, 0, 0, 2, 1, 0, 0, 2, 2, 1, 1, 2, 3, 0, 3, 1])\n",
      "tensor(0)\n"
     ]
    }
   ],
   "source": [
    "class SymbolicWorldIterableDataset(IterableDataset):\n",
    "\n",
    "    def __init__(self, num_objects, observation_size):\n",
    "        self.num_objects = num_objects\n",
    "        self.observation_size = observation_size\n",
    "        pass\n",
    "\n",
    "    def generate_observation(self):\n",
    "        observation = torch.randint(0, self.num_objects, (self.observation_size,))\n",
    "\n",
    "        parity_1 = ((observation == 1).sum())%2\n",
    "        return {'observation':observation, 'parity_1':parity_1}\n",
    "\n",
    "    def __iter__(self):\n",
    "        while(True):\n",
    "            yield self.generate_observation()\n",
    "\n",
    "iterable_dataset = SymbolicWorldIterableDataset(experiment_config['obj_size'], experiment_config['obs_size'])\n",
    "loader = DataLoader(iterable_dataset, batch_size=training_config['batch_size'])\n",
    "\n",
    "test_loaders_list = []\n",
    "for observation_size in [4,8,16,32,64]:\n",
    "    test_loader_name = f'observation_size_{observation_size}'\n",
    "    test_loader_data = DataLoader(SymbolicWorldIterableDataset(experiment_config['obj_size'], observation_size),\\\n",
    "        batch_size=training_config['batch_size'])\n",
    "    test_loaders_list.append({\n",
    "        'name': test_loader_name,\n",
    "        'data_loader': test_loader_data\n",
    "    })\n",
    "\n",
    "if True:\n",
    "    for a in loader:\n",
    "        print(a['observation'][0])\n",
    "        print(a['parity_1'][0])\n",
    "        break\n"
   ]
  },
  {
   "cell_type": "code",
   "execution_count": 64,
   "metadata": {},
   "outputs": [],
   "source": [
    "class MySimpleModel(nn.Module):\n",
    "    \n",
    "    def __init__(self, model_config):\n",
    "        super(MySimpleModel, self).__init__()\n",
    "        d_model = model_config['d_model']\n",
    "        n_heads = model_config['n_head']\n",
    "        n_layers = model_config['num_layers']\n",
    "        n_objects = model_config['num_obj']\n",
    "        num_funcs = model_config['num_funcs']\n",
    "        n_clss = 5\n",
    "        self.d_model = d_model\n",
    "        dini_config = {\n",
    "            'hid_dim' : d_model,\n",
    "            'n_heads': n_heads,\n",
    "            'num_layer' : n_layers,\n",
    "            'num_iter' : 2,\n",
    "            'num_funcs' : num_funcs,\n",
    "            'type_size' : d_model,\n",
    "            'code_size' : d_model,\n",
    "            'type_inference_depth': 1,\n",
    "            'type_inference_width': 2 * d_model,\n",
    "            'threshold': 0.1, \n",
    "            'num_locs': 2,\n",
    "            'num_mlp_layers': 1,\n",
    "            'dropout': 0.1\n",
    "        }\n",
    "        self.transformer_layer = dini_machine.DiniEncoder(**dini_config)\n",
    "        self.token_embedding = torch.nn.Embedding(n_objects, d_model)\n",
    "        self.clss_embedding = torch.nn.Embedding(n_clss, d_model)\n",
    "        self.fc1 = torch.nn.Linear(d_model, 2)\n",
    "        \n",
    "    def forward(self, x, clss):\n",
    "        '''\n",
    "        x : long tensor: [batch, seq_len]\n",
    "        clss: long tensor: [batch, 1]\n",
    "        return: tensor: [batch, 2]\n",
    "        '''\n",
    "        temp = x\n",
    "        temp = self.token_embedding(temp)\n",
    "        clss_embedding = self.clss_embedding(clss)\n",
    "        temp = torch.cat((clss_embedding, temp), dim=1)\n",
    "        temp = self.transformer_layer(temp)\n",
    "        temp = temp[:, 0, :]\n",
    "        temp = self.fc1(temp)\n",
    "        return temp"
   ]
  },
  {
   "cell_type": "code",
   "execution_count": 65,
   "metadata": {},
   "outputs": [
    {
     "name": "stdout",
     "output_type": "stream",
     "text": [
      "Number of Model Parameters:  2189442\n"
     ]
    }
   ],
   "source": [
    "model = MySimpleModel(model_config).to(device)\n",
    "loss_module = nn.CrossEntropyLoss()\n",
    "optimizer = torch.optim.Adam(model.parameters(), lr=training_config['lr'])\n",
    "f1_module = torchmetrics.F1Score(num_classes=2).to(device)\n",
    "\n",
    "print(\"Number of Model Parameters: \", count_parameters(model))"
   ]
  },
  {
   "cell_type": "code",
   "execution_count": 66,
   "metadata": {},
   "outputs": [],
   "source": [
    "def eval(test_loader):\n",
    "    with torch.no_grad():\n",
    "            test_f1s = []\n",
    "            for j, batch in enumerate(test_loader):\n",
    "                x = batch['observation'].to(device)\n",
    "                clss = torch.ones((x.shape[0], 1)).long().to(device)\n",
    "                y = batch['parity_1'].to(device)\n",
    "                output = model(x, clss)\n",
    "                preds = output.argmax(dim=1)\n",
    "                test_f1s.append(f1_module(preds, y).item())\n",
    "                if j > 10:\n",
    "                    break\n",
    "            f1 = sum(test_f1s)/len(test_f1s)\n",
    "            return round(f1, 4)"
   ]
  },
  {
   "cell_type": "code",
   "execution_count": 67,
   "metadata": {},
   "outputs": [
    {
     "data": {
      "application/vnd.jupyter.widget-view+json": {
       "model_id": "77888a3211564fbf9e3b1b07b8c56c20",
       "version_major": 2,
       "version_minor": 0
      },
      "text/plain": [
       "  0%|          | 0/10000 [00:00<?, ?it/s]"
      ]
     },
     "metadata": {},
     "output_type": "display_data"
    },
    {
     "name": "stdout",
     "output_type": "stream",
     "text": [
      "step 0\n",
      "loss: 7.30e-01\n",
      "train f1:  0.5312\n",
      "observation_size_4  f1_score:  0.4714\n",
      "observation_size_8  f1_score:  0.5015\n",
      "observation_size_16  f1_score:  0.5019\n",
      "observation_size_32  f1_score:  0.5014\n",
      "observation_size_64  f1_score:  0.4946\n",
      "------------------------\n",
      "step 200\n",
      "loss: 6.98e-01\n",
      "train f1:  0.5098\n",
      "observation_size_4  f1_score:  0.5645\n",
      "observation_size_8  f1_score:  0.4709\n",
      "observation_size_16  f1_score:  0.5046\n",
      "observation_size_32  f1_score:  0.4951\n",
      "observation_size_64  f1_score:  0.5045\n",
      "------------------------\n",
      "step 400\n",
      "loss: 6.93e-01\n",
      "train f1:  0.4902\n",
      "observation_size_4  f1_score:  0.5924\n",
      "observation_size_8  f1_score:  0.5083\n",
      "observation_size_16  f1_score:  0.5103\n",
      "observation_size_32  f1_score:  0.5014\n",
      "observation_size_64  f1_score:  0.4988\n",
      "------------------------\n",
      "step 600\n",
      "loss: 6.91e-01\n",
      "train f1:  0.5244\n",
      "observation_size_4  f1_score:  0.5672\n",
      "observation_size_8  f1_score:  0.534\n",
      "observation_size_16  f1_score:  0.5266\n",
      "observation_size_32  f1_score:  0.5048\n",
      "observation_size_64  f1_score:  0.4944\n",
      "------------------------\n",
      "step 800\n",
      "loss: 6.81e-01\n",
      "train f1:  0.5889\n",
      "observation_size_4  f1_score:  0.5795\n",
      "observation_size_8  f1_score:  0.6266\n",
      "observation_size_16  f1_score:  0.5855\n",
      "observation_size_32  f1_score:  0.5332\n",
      "observation_size_64  f1_score:  0.4869\n",
      "------------------------\n",
      "step 1000\n",
      "loss: 6.73e-01\n",
      "train f1:  0.5957\n",
      "observation_size_4  f1_score:  0.6962\n",
      "observation_size_8  f1_score:  0.6449\n",
      "observation_size_16  f1_score:  0.6077\n",
      "observation_size_32  f1_score:  0.4437\n",
      "observation_size_64  f1_score:  0.5127\n",
      "------------------------\n",
      "step 1200\n",
      "loss: 6.61e-01\n",
      "train f1:  0.5293\n",
      "observation_size_4  f1_score:  0.6051\n",
      "observation_size_8  f1_score:  0.4532\n",
      "observation_size_16  f1_score:  0.5131\n",
      "observation_size_32  f1_score:  0.5057\n",
      "observation_size_64  f1_score:  0.4922\n",
      "------------------------\n",
      "step 1400\n",
      "loss: 6.90e-01\n",
      "train f1:  0.5352\n",
      "observation_size_4  f1_score:  0.623\n",
      "observation_size_8  f1_score:  0.4998\n",
      "observation_size_16  f1_score:  0.5289\n",
      "observation_size_32  f1_score:  0.5002\n"
     ]
    },
    {
     "ename": "KeyboardInterrupt",
     "evalue": "",
     "output_type": "error",
     "traceback": [
      "\u001b[0;31m---------------------------------------------------------------------------\u001b[0m",
      "\u001b[0;31mKeyboardInterrupt\u001b[0m                         Traceback (most recent call last)",
      "\u001b[1;32m/home/mmsamiei/symbolic-world/parity/parity_dini.ipynb Cell 9'\u001b[0m in \u001b[0;36m<cell line: 4>\u001b[0;34m()\u001b[0m\n\u001b[1;32m     <a href='vscode-notebook-cell://ssh-remote%2B192.168.198.96/home/mmsamiei/symbolic-world/parity/parity_dini.ipynb#ch0000010vscode-remote?line=20'>21</a>\u001b[0m \u001b[39mprint\u001b[39m(\u001b[39m'\u001b[39m\u001b[39mtrain f1: \u001b[39m\u001b[39m'\u001b[39m, \u001b[39mround\u001b[39m(train_f1,\u001b[39m4\u001b[39m))\n\u001b[1;32m     <a href='vscode-notebook-cell://ssh-remote%2B192.168.198.96/home/mmsamiei/symbolic-world/parity/parity_dini.ipynb#ch0000010vscode-remote?line=21'>22</a>\u001b[0m \u001b[39mfor\u001b[39;00m test_loader \u001b[39min\u001b[39;00m test_loaders_list:\n\u001b[0;32m---> <a href='vscode-notebook-cell://ssh-remote%2B192.168.198.96/home/mmsamiei/symbolic-world/parity/parity_dini.ipynb#ch0000010vscode-remote?line=22'>23</a>\u001b[0m     test_acc \u001b[39m=\u001b[39m \u001b[39meval\u001b[39;49m(test_loader[\u001b[39m'\u001b[39;49m\u001b[39mdata_loader\u001b[39;49m\u001b[39m'\u001b[39;49m])\n\u001b[1;32m     <a href='vscode-notebook-cell://ssh-remote%2B192.168.198.96/home/mmsamiei/symbolic-world/parity/parity_dini.ipynb#ch0000010vscode-remote?line=23'>24</a>\u001b[0m     \u001b[39mprint\u001b[39m(test_loader[\u001b[39m'\u001b[39m\u001b[39mname\u001b[39m\u001b[39m'\u001b[39m], \u001b[39m\"\u001b[39m\u001b[39m f1_score: \u001b[39m\u001b[39m\"\u001b[39m , test_acc)\n\u001b[1;32m     <a href='vscode-notebook-cell://ssh-remote%2B192.168.198.96/home/mmsamiei/symbolic-world/parity/parity_dini.ipynb#ch0000010vscode-remote?line=24'>25</a>\u001b[0m \u001b[39mprint\u001b[39m(\u001b[39m'\u001b[39m\u001b[39m------------------------\u001b[39m\u001b[39m'\u001b[39m)\n",
      "\u001b[1;32m/home/mmsamiei/symbolic-world/parity/parity_dini.ipynb Cell 8'\u001b[0m in \u001b[0;36meval\u001b[0;34m(test_loader)\u001b[0m\n\u001b[1;32m      <a href='vscode-notebook-cell://ssh-remote%2B192.168.198.96/home/mmsamiei/symbolic-world/parity/parity_dini.ipynb#ch0000009vscode-remote?line=5'>6</a>\u001b[0m clss \u001b[39m=\u001b[39m torch\u001b[39m.\u001b[39mones((x\u001b[39m.\u001b[39mshape[\u001b[39m0\u001b[39m], \u001b[39m1\u001b[39m))\u001b[39m.\u001b[39mlong()\u001b[39m.\u001b[39mto(device)\n\u001b[1;32m      <a href='vscode-notebook-cell://ssh-remote%2B192.168.198.96/home/mmsamiei/symbolic-world/parity/parity_dini.ipynb#ch0000009vscode-remote?line=6'>7</a>\u001b[0m y \u001b[39m=\u001b[39m batch[\u001b[39m'\u001b[39m\u001b[39mparity_1\u001b[39m\u001b[39m'\u001b[39m]\u001b[39m.\u001b[39mto(device)\n\u001b[0;32m----> <a href='vscode-notebook-cell://ssh-remote%2B192.168.198.96/home/mmsamiei/symbolic-world/parity/parity_dini.ipynb#ch0000009vscode-remote?line=7'>8</a>\u001b[0m output \u001b[39m=\u001b[39m model(x, clss)\n\u001b[1;32m      <a href='vscode-notebook-cell://ssh-remote%2B192.168.198.96/home/mmsamiei/symbolic-world/parity/parity_dini.ipynb#ch0000009vscode-remote?line=8'>9</a>\u001b[0m preds \u001b[39m=\u001b[39m output\u001b[39m.\u001b[39margmax(dim\u001b[39m=\u001b[39m\u001b[39m1\u001b[39m)\n\u001b[1;32m     <a href='vscode-notebook-cell://ssh-remote%2B192.168.198.96/home/mmsamiei/symbolic-world/parity/parity_dini.ipynb#ch0000009vscode-remote?line=9'>10</a>\u001b[0m test_f1s\u001b[39m.\u001b[39mappend(f1_module(preds, y)\u001b[39m.\u001b[39mitem())\n",
      "File \u001b[0;32m~/venv/lib/python3.8/site-packages/torch/nn/modules/module.py:1102\u001b[0m, in \u001b[0;36mModule._call_impl\u001b[0;34m(self, *input, **kwargs)\u001b[0m\n\u001b[1;32m   1098\u001b[0m \u001b[39m# If we don't have any hooks, we want to skip the rest of the logic in\u001b[39;00m\n\u001b[1;32m   1099\u001b[0m \u001b[39m# this function, and just call forward.\u001b[39;00m\n\u001b[1;32m   1100\u001b[0m \u001b[39mif\u001b[39;00m \u001b[39mnot\u001b[39;00m (\u001b[39mself\u001b[39m\u001b[39m.\u001b[39m_backward_hooks \u001b[39mor\u001b[39;00m \u001b[39mself\u001b[39m\u001b[39m.\u001b[39m_forward_hooks \u001b[39mor\u001b[39;00m \u001b[39mself\u001b[39m\u001b[39m.\u001b[39m_forward_pre_hooks \u001b[39mor\u001b[39;00m _global_backward_hooks\n\u001b[1;32m   1101\u001b[0m         \u001b[39mor\u001b[39;00m _global_forward_hooks \u001b[39mor\u001b[39;00m _global_forward_pre_hooks):\n\u001b[0;32m-> 1102\u001b[0m     \u001b[39mreturn\u001b[39;00m forward_call(\u001b[39m*\u001b[39;49m\u001b[39minput\u001b[39;49m, \u001b[39m*\u001b[39;49m\u001b[39m*\u001b[39;49mkwargs)\n\u001b[1;32m   1103\u001b[0m \u001b[39m# Do not call functions when jit is used\u001b[39;00m\n\u001b[1;32m   1104\u001b[0m full_backward_hooks, non_full_backward_hooks \u001b[39m=\u001b[39m [], []\n",
      "\u001b[1;32m/home/mmsamiei/symbolic-world/parity/parity_dini.ipynb Cell 6'\u001b[0m in \u001b[0;36mMySimpleModel.forward\u001b[0;34m(self, x, clss)\u001b[0m\n\u001b[1;32m     <a href='vscode-notebook-cell://ssh-remote%2B192.168.198.96/home/mmsamiei/symbolic-world/parity/parity_dini.ipynb#ch0000007vscode-remote?line=39'>40</a>\u001b[0m clss_embedding \u001b[39m=\u001b[39m \u001b[39mself\u001b[39m\u001b[39m.\u001b[39mclss_embedding(clss)\n\u001b[1;32m     <a href='vscode-notebook-cell://ssh-remote%2B192.168.198.96/home/mmsamiei/symbolic-world/parity/parity_dini.ipynb#ch0000007vscode-remote?line=40'>41</a>\u001b[0m temp \u001b[39m=\u001b[39m torch\u001b[39m.\u001b[39mcat((clss_embedding, temp), dim\u001b[39m=\u001b[39m\u001b[39m1\u001b[39m)\n\u001b[0;32m---> <a href='vscode-notebook-cell://ssh-remote%2B192.168.198.96/home/mmsamiei/symbolic-world/parity/parity_dini.ipynb#ch0000007vscode-remote?line=41'>42</a>\u001b[0m temp \u001b[39m=\u001b[39m \u001b[39mself\u001b[39;49m\u001b[39m.\u001b[39;49mtransformer_layer(temp)\n\u001b[1;32m     <a href='vscode-notebook-cell://ssh-remote%2B192.168.198.96/home/mmsamiei/symbolic-world/parity/parity_dini.ipynb#ch0000007vscode-remote?line=42'>43</a>\u001b[0m temp \u001b[39m=\u001b[39m temp[:, \u001b[39m0\u001b[39m, :]\n\u001b[1;32m     <a href='vscode-notebook-cell://ssh-remote%2B192.168.198.96/home/mmsamiei/symbolic-world/parity/parity_dini.ipynb#ch0000007vscode-remote?line=43'>44</a>\u001b[0m temp \u001b[39m=\u001b[39m \u001b[39mself\u001b[39m\u001b[39m.\u001b[39mfc1(temp)\n",
      "File \u001b[0;32m~/venv/lib/python3.8/site-packages/torch/nn/modules/module.py:1102\u001b[0m, in \u001b[0;36mModule._call_impl\u001b[0;34m(self, *input, **kwargs)\u001b[0m\n\u001b[1;32m   1098\u001b[0m \u001b[39m# If we don't have any hooks, we want to skip the rest of the logic in\u001b[39;00m\n\u001b[1;32m   1099\u001b[0m \u001b[39m# this function, and just call forward.\u001b[39;00m\n\u001b[1;32m   1100\u001b[0m \u001b[39mif\u001b[39;00m \u001b[39mnot\u001b[39;00m (\u001b[39mself\u001b[39m\u001b[39m.\u001b[39m_backward_hooks \u001b[39mor\u001b[39;00m \u001b[39mself\u001b[39m\u001b[39m.\u001b[39m_forward_hooks \u001b[39mor\u001b[39;00m \u001b[39mself\u001b[39m\u001b[39m.\u001b[39m_forward_pre_hooks \u001b[39mor\u001b[39;00m _global_backward_hooks\n\u001b[1;32m   1101\u001b[0m         \u001b[39mor\u001b[39;00m _global_forward_hooks \u001b[39mor\u001b[39;00m _global_forward_pre_hooks):\n\u001b[0;32m-> 1102\u001b[0m     \u001b[39mreturn\u001b[39;00m forward_call(\u001b[39m*\u001b[39;49m\u001b[39minput\u001b[39;49m, \u001b[39m*\u001b[39;49m\u001b[39m*\u001b[39;49mkwargs)\n\u001b[1;32m   1103\u001b[0m \u001b[39m# Do not call functions when jit is used\u001b[39;00m\n\u001b[1;32m   1104\u001b[0m full_backward_hooks, non_full_backward_hooks \u001b[39m=\u001b[39m [], []\n",
      "File \u001b[0;32m~/symbolic-world/parity/dini_machine.py:302\u001b[0m, in \u001b[0;36mDiniEncoder.forward\u001b[0;34m(self, x)\u001b[0m\n\u001b[1;32m    300\u001b[0m temp \u001b[39m=\u001b[39m x\n\u001b[1;32m    301\u001b[0m \u001b[39mfor\u001b[39;00m layer \u001b[39min\u001b[39;00m \u001b[39mself\u001b[39m\u001b[39m.\u001b[39mlayers:\n\u001b[0;32m--> 302\u001b[0m     temp \u001b[39m=\u001b[39m temp \u001b[39m+\u001b[39m layer(temp)\n\u001b[1;32m    303\u001b[0m temp \u001b[39m=\u001b[39m \u001b[39mself\u001b[39m\u001b[39m.\u001b[39mlayernorm1(temp)\n\u001b[1;32m    304\u001b[0m \u001b[39mreturn\u001b[39;00m temp\n",
      "File \u001b[0;32m~/venv/lib/python3.8/site-packages/torch/nn/modules/module.py:1102\u001b[0m, in \u001b[0;36mModule._call_impl\u001b[0;34m(self, *input, **kwargs)\u001b[0m\n\u001b[1;32m   1098\u001b[0m \u001b[39m# If we don't have any hooks, we want to skip the rest of the logic in\u001b[39;00m\n\u001b[1;32m   1099\u001b[0m \u001b[39m# this function, and just call forward.\u001b[39;00m\n\u001b[1;32m   1100\u001b[0m \u001b[39mif\u001b[39;00m \u001b[39mnot\u001b[39;00m (\u001b[39mself\u001b[39m\u001b[39m.\u001b[39m_backward_hooks \u001b[39mor\u001b[39;00m \u001b[39mself\u001b[39m\u001b[39m.\u001b[39m_forward_hooks \u001b[39mor\u001b[39;00m \u001b[39mself\u001b[39m\u001b[39m.\u001b[39m_forward_pre_hooks \u001b[39mor\u001b[39;00m _global_backward_hooks\n\u001b[1;32m   1101\u001b[0m         \u001b[39mor\u001b[39;00m _global_forward_hooks \u001b[39mor\u001b[39;00m _global_forward_pre_hooks):\n\u001b[0;32m-> 1102\u001b[0m     \u001b[39mreturn\u001b[39;00m forward_call(\u001b[39m*\u001b[39;49m\u001b[39minput\u001b[39;49m, \u001b[39m*\u001b[39;49m\u001b[39m*\u001b[39;49mkwargs)\n\u001b[1;32m   1103\u001b[0m \u001b[39m# Do not call functions when jit is used\u001b[39;00m\n\u001b[1;32m   1104\u001b[0m full_backward_hooks, non_full_backward_hooks \u001b[39m=\u001b[39m [], []\n",
      "File \u001b[0;32m~/symbolic-world/parity/dini_machine.py:280\u001b[0m, in \u001b[0;36mDiniFuncRowIter.forward\u001b[0;34m(self, x)\u001b[0m\n\u001b[1;32m    278\u001b[0m temp \u001b[39m=\u001b[39m x \n\u001b[1;32m    279\u001b[0m \u001b[39mfor\u001b[39;00m iter_num \u001b[39min\u001b[39;00m \u001b[39mrange\u001b[39m(\u001b[39mself\u001b[39m\u001b[39m.\u001b[39mnum_iter):\n\u001b[0;32m--> 280\u001b[0m     temp \u001b[39m=\u001b[39m temp \u001b[39m+\u001b[39m \u001b[39mself\u001b[39;49m\u001b[39m.\u001b[39;49mfuncs_row(temp)\n\u001b[1;32m    281\u001b[0m temp \u001b[39m=\u001b[39m \u001b[39mself\u001b[39m\u001b[39m.\u001b[39mlayernorm1(temp)\n\u001b[1;32m    282\u001b[0m \u001b[39mreturn\u001b[39;00m temp\n",
      "File \u001b[0;32m~/venv/lib/python3.8/site-packages/torch/nn/modules/module.py:1102\u001b[0m, in \u001b[0;36mModule._call_impl\u001b[0;34m(self, *input, **kwargs)\u001b[0m\n\u001b[1;32m   1098\u001b[0m \u001b[39m# If we don't have any hooks, we want to skip the rest of the logic in\u001b[39;00m\n\u001b[1;32m   1099\u001b[0m \u001b[39m# this function, and just call forward.\u001b[39;00m\n\u001b[1;32m   1100\u001b[0m \u001b[39mif\u001b[39;00m \u001b[39mnot\u001b[39;00m (\u001b[39mself\u001b[39m\u001b[39m.\u001b[39m_backward_hooks \u001b[39mor\u001b[39;00m \u001b[39mself\u001b[39m\u001b[39m.\u001b[39m_forward_hooks \u001b[39mor\u001b[39;00m \u001b[39mself\u001b[39m\u001b[39m.\u001b[39m_forward_pre_hooks \u001b[39mor\u001b[39;00m _global_backward_hooks\n\u001b[1;32m   1101\u001b[0m         \u001b[39mor\u001b[39;00m _global_forward_hooks \u001b[39mor\u001b[39;00m _global_forward_pre_hooks):\n\u001b[0;32m-> 1102\u001b[0m     \u001b[39mreturn\u001b[39;00m forward_call(\u001b[39m*\u001b[39;49m\u001b[39minput\u001b[39;49m, \u001b[39m*\u001b[39;49m\u001b[39m*\u001b[39;49mkwargs)\n\u001b[1;32m   1103\u001b[0m \u001b[39m# Do not call functions when jit is used\u001b[39;00m\n\u001b[1;32m   1104\u001b[0m full_backward_hooks, non_full_backward_hooks \u001b[39m=\u001b[39m [], []\n",
      "File \u001b[0;32m~/symbolic-world/parity/dini_machine.py:257\u001b[0m, in \u001b[0;36mDiniFuncRow.forward\u001b[0;34m(self, x)\u001b[0m\n\u001b[1;32m    255\u001b[0m compability_matrix \u001b[39m=\u001b[39m \u001b[39mself\u001b[39m\u001b[39m.\u001b[39mget_compability_matrix(x)\n\u001b[1;32m    256\u001b[0m \u001b[39mfor\u001b[39;00m i_func,func \u001b[39min\u001b[39;00m \u001b[39menumerate\u001b[39m(\u001b[39mself\u001b[39m\u001b[39m.\u001b[39mfuncs):\n\u001b[0;32m--> 257\u001b[0m     temp \u001b[39m=\u001b[39m temp \u001b[39m+\u001b[39m func(x, compability_matrix[:,:,i_func]) \u001b[39m*\u001b[39m compability_matrix[:,:,i_func]\u001b[39m.\u001b[39munsqueeze(\u001b[39m-\u001b[39m\u001b[39m1\u001b[39m)\u001b[39m.\u001b[39mrepeat_interleave(repeats\u001b[39m=\u001b[39mtemp\u001b[39m.\u001b[39mshape[\u001b[39m2\u001b[39m], dim\u001b[39m=\u001b[39m\u001b[39m-\u001b[39m\u001b[39m1\u001b[39m)\n\u001b[1;32m    258\u001b[0m temp \u001b[39m=\u001b[39m \u001b[39mself\u001b[39m\u001b[39m.\u001b[39mlayernorm1(temp)\n\u001b[1;32m    259\u001b[0m \u001b[39mreturn\u001b[39;00m temp\n",
      "File \u001b[0;32m~/venv/lib/python3.8/site-packages/torch/nn/modules/module.py:1102\u001b[0m, in \u001b[0;36mModule._call_impl\u001b[0;34m(self, *input, **kwargs)\u001b[0m\n\u001b[1;32m   1098\u001b[0m \u001b[39m# If we don't have any hooks, we want to skip the rest of the logic in\u001b[39;00m\n\u001b[1;32m   1099\u001b[0m \u001b[39m# this function, and just call forward.\u001b[39;00m\n\u001b[1;32m   1100\u001b[0m \u001b[39mif\u001b[39;00m \u001b[39mnot\u001b[39;00m (\u001b[39mself\u001b[39m\u001b[39m.\u001b[39m_backward_hooks \u001b[39mor\u001b[39;00m \u001b[39mself\u001b[39m\u001b[39m.\u001b[39m_forward_hooks \u001b[39mor\u001b[39;00m \u001b[39mself\u001b[39m\u001b[39m.\u001b[39m_forward_pre_hooks \u001b[39mor\u001b[39;00m _global_backward_hooks\n\u001b[1;32m   1101\u001b[0m         \u001b[39mor\u001b[39;00m _global_forward_hooks \u001b[39mor\u001b[39;00m _global_forward_pre_hooks):\n\u001b[0;32m-> 1102\u001b[0m     \u001b[39mreturn\u001b[39;00m forward_call(\u001b[39m*\u001b[39;49m\u001b[39minput\u001b[39;49m, \u001b[39m*\u001b[39;49m\u001b[39m*\u001b[39;49mkwargs)\n\u001b[1;32m   1103\u001b[0m \u001b[39m# Do not call functions when jit is used\u001b[39;00m\n\u001b[1;32m   1104\u001b[0m full_backward_hooks, non_full_backward_hooks \u001b[39m=\u001b[39m [], []\n",
      "File \u001b[0;32m~/symbolic-world/parity/dini_machine.py:204\u001b[0m, in \u001b[0;36mDiniFunc.forward\u001b[0;34m(self, x, c_u)\u001b[0m\n\u001b[1;32m    202\u001b[0m temp \u001b[39m=\u001b[39m x \n\u001b[1;32m    203\u001b[0m \u001b[39mfor\u001b[39;00m loc \u001b[39min\u001b[39;00m \u001b[39mself\u001b[39m\u001b[39m.\u001b[39mlocs:\n\u001b[0;32m--> 204\u001b[0m     temp \u001b[39m=\u001b[39m temp \u001b[39m+\u001b[39m loc(temp, c_u)\n\u001b[1;32m    205\u001b[0m temp \u001b[39m=\u001b[39m \u001b[39mself\u001b[39m\u001b[39m.\u001b[39mlayernorm1(temp)\n\u001b[1;32m    206\u001b[0m \u001b[39mreturn\u001b[39;00m temp\n",
      "File \u001b[0;32m~/venv/lib/python3.8/site-packages/torch/nn/modules/module.py:1102\u001b[0m, in \u001b[0;36mModule._call_impl\u001b[0;34m(self, *input, **kwargs)\u001b[0m\n\u001b[1;32m   1098\u001b[0m \u001b[39m# If we don't have any hooks, we want to skip the rest of the logic in\u001b[39;00m\n\u001b[1;32m   1099\u001b[0m \u001b[39m# this function, and just call forward.\u001b[39;00m\n\u001b[1;32m   1100\u001b[0m \u001b[39mif\u001b[39;00m \u001b[39mnot\u001b[39;00m (\u001b[39mself\u001b[39m\u001b[39m.\u001b[39m_backward_hooks \u001b[39mor\u001b[39;00m \u001b[39mself\u001b[39m\u001b[39m.\u001b[39m_forward_hooks \u001b[39mor\u001b[39;00m \u001b[39mself\u001b[39m\u001b[39m.\u001b[39m_forward_pre_hooks \u001b[39mor\u001b[39;00m _global_backward_hooks\n\u001b[1;32m   1101\u001b[0m         \u001b[39mor\u001b[39;00m _global_forward_hooks \u001b[39mor\u001b[39;00m _global_forward_pre_hooks):\n\u001b[0;32m-> 1102\u001b[0m     \u001b[39mreturn\u001b[39;00m forward_call(\u001b[39m*\u001b[39;49m\u001b[39minput\u001b[39;49m, \u001b[39m*\u001b[39;49m\u001b[39m*\u001b[39;49mkwargs)\n\u001b[1;32m   1103\u001b[0m \u001b[39m# Do not call functions when jit is used\u001b[39;00m\n\u001b[1;32m   1104\u001b[0m full_backward_hooks, non_full_backward_hooks \u001b[39m=\u001b[39m [], []\n",
      "File \u001b[0;32m~/symbolic-world/parity/dini_machine.py:173\u001b[0m, in \u001b[0;36mLOC.forward\u001b[0;34m(self, x, c_u)\u001b[0m\n\u001b[1;32m    171\u001b[0m a_u_hat \u001b[39m=\u001b[39m \u001b[39mself\u001b[39m\u001b[39m.\u001b[39mmod_attn(temp,temp,temp,c_u)[\u001b[39m0\u001b[39m]\n\u001b[1;32m    172\u001b[0m \u001b[39m# a_u_hat = [batch, len, hid]\u001b[39;00m\n\u001b[0;32m--> 173\u001b[0m a_u \u001b[39m=\u001b[39m a_u_hat \u001b[39m*\u001b[39m c_u\u001b[39m.\u001b[39;49munsqueeze(\u001b[39m-\u001b[39;49m\u001b[39m1\u001b[39;49m)\u001b[39m.\u001b[39;49mrepeat_interleave(repeats\u001b[39m=\u001b[39;49ma_u_hat\u001b[39m.\u001b[39;49mshape[\u001b[39m2\u001b[39;49m], dim\u001b[39m=\u001b[39;49m\u001b[39m-\u001b[39;49m\u001b[39m1\u001b[39;49m) \u001b[39m+\u001b[39m x\n\u001b[1;32m    174\u001b[0m b_hat_u \u001b[39m=\u001b[39m \u001b[39mself\u001b[39m\u001b[39m.\u001b[39mmod_mlp(\u001b[39mself\u001b[39m\u001b[39m.\u001b[39mlayernorm2(a_u))\n\u001b[1;32m    175\u001b[0m y_u \u001b[39m=\u001b[39m b_hat_u \u001b[39m*\u001b[39m c_u\u001b[39m.\u001b[39munsqueeze(\u001b[39m-\u001b[39m\u001b[39m1\u001b[39m)\u001b[39m.\u001b[39mrepeat_interleave(repeats\u001b[39m=\u001b[39ma_u_hat\u001b[39m.\u001b[39mshape[\u001b[39m2\u001b[39m], dim\u001b[39m=\u001b[39m\u001b[39m-\u001b[39m\u001b[39m1\u001b[39m) \u001b[39m+\u001b[39m a_u\n",
      "\u001b[0;31mKeyboardInterrupt\u001b[0m: "
     ]
    }
   ],
   "source": [
    "loss_history = []\n",
    "max_steps = training_config['max_step']\n",
    "log_every_steps = 200\n",
    "for i, batch in tqdm(enumerate(loader), total=max_steps):\n",
    "    x = batch['observation'].to(device)\n",
    "    clss = torch.ones((x.shape[0], 1)).long().to(device)\n",
    "    y = batch['parity_1'].to(device)\n",
    "    optimizer.zero_grad()\n",
    "    output = model(x, clss)\n",
    "    loss = loss_module(output, y)\n",
    "    loss_history.append(loss.item())\n",
    "    loss.backward()\n",
    "    optimizer.step()\n",
    "    if i > max_steps:\n",
    "        break\n",
    "    if i % log_every_steps == 0 :\n",
    "        print(\"step {}\".format(i))\n",
    "        print(\"loss: {:.2e}\".format(sum(loss_history)/len(loss_history)))\n",
    "        loss_history = []\n",
    "        train_f1 = f1_module(output.argmax(dim=1), y).item()\n",
    "        print('train f1: ', round(train_f1,4))\n",
    "        for test_loader in test_loaders_list:\n",
    "            test_acc = eval(test_loader['data_loader'])\n",
    "            print(test_loader['name'], \" f1_score: \" , test_acc)\n",
    "        print('------------------------')"
   ]
  }
 ],
 "metadata": {
  "kernelspec": {
   "display_name": "Python 3.8.7 ('venv')",
   "language": "python",
   "name": "python3"
  },
  "language_info": {
   "codemirror_mode": {
    "name": "ipython",
    "version": 3
   },
   "file_extension": ".py",
   "mimetype": "text/x-python",
   "name": "python",
   "nbconvert_exporter": "python",
   "pygments_lexer": "ipython3",
   "version": "3.8.7"
  },
  "orig_nbformat": 4,
  "vscode": {
   "interpreter": {
    "hash": "73872a7625a445826f9d574d6c0b680d3fefaf18301176724424f6d82d4937fc"
   }
  }
 },
 "nbformat": 4,
 "nbformat_minor": 2
}
