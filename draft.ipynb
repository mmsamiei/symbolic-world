{
 "cells": [
  {
   "cell_type": "code",
   "execution_count": 1,
   "metadata": {},
   "outputs": [],
   "source": [
    "import torch\n",
    "from torch.utils.data import Dataset, IterableDataset, DataLoader\n",
    "import torch.nn as nn\n",
    "import random\n",
    "import numpy as np\n",
    "import math\n",
    "from tqdm.auto import tqdm"
   ]
  },
  {
   "cell_type": "code",
   "execution_count": 2,
   "metadata": {},
   "outputs": [],
   "source": [
    "device = torch.device('cuda')"
   ]
  },
  {
   "cell_type": "code",
   "execution_count": 4,
   "metadata": {},
   "outputs": [],
   "source": [
    "class SymbolicWorldIterableDataset(IterableDataset):\n",
    "\n",
    "    def __init__(self, num_objects=32, observation_size=8):\n",
    "        self.num_objects = num_objects\n",
    "        self.observation_size = observation_size\n",
    "        pass\n",
    "\n",
    "    def generate_observation(self):\n",
    "        observation = torch.randint(0, self.num_objects, (self.observation_size,))\n",
    "        exist_1 = int(1 in observation)\n",
    "        return {'observation':observation, 'exist_1':exist_1}\n",
    "\n",
    "    def __iter__(self):\n",
    "        while(True):\n",
    "            yield self.generate_observation()\n",
    "\n",
    "iterable_dataset = SymbolicWorldIterableDataset()\n",
    "loader = DataLoader(iterable_dataset, batch_size=1024)\n",
    "\n",
    "if False:\n",
    "    for a in loader:\n",
    "        print(a['observation'][0])\n",
    "        print(a['exist_1'][0])\n",
    "        break\n"
   ]
  },
  {
   "cell_type": "code",
   "execution_count": 5,
   "metadata": {},
   "outputs": [],
   "source": [
    "class MySimpleModel(nn.Module):\n",
    "    \n",
    "    def __init__(self):\n",
    "        super(MySimpleModel, self).__init__()\n",
    "        d_model = 32\n",
    "        n_heads = 8\n",
    "        n_layers = 2\n",
    "        n_objects = 32\n",
    "        n_clss = 5\n",
    "        self.d_model = d_model\n",
    "        self.encoder_layer = nn.TransformerEncoderLayer(d_model=d_model, nhead=n_heads, batch_first=True)\n",
    "        self.transformer_layer = torch.nn.TransformerEncoder(self.encoder_layer, n_layers)\n",
    "        self.token_embedding = torch.nn.Embedding(n_objects, d_model)\n",
    "        self.clss_embedding = torch.nn.Embedding(n_clss, d_model)\n",
    "        self.fc1 = torch.nn.Linear(d_model, 2)\n",
    "        \n",
    "    def forward(self, x, clss):\n",
    "        '''\n",
    "        x : long tensor: [batch, seq_len]\n",
    "        clss: long tensor: [batch, 1]\n",
    "        return: tensor: [batch, 2]\n",
    "        '''\n",
    "        temp = x\n",
    "        temp = self.token_embedding(temp)\n",
    "        clss_embedding = self.clss_embedding(clss)\n",
    "        temp = torch.cat((clss_embedding, temp), dim=1)\n",
    "        temp = self.transformer_layer(temp)\n",
    "        temp = temp[:, 0, :]\n",
    "        temp = self.fc1(temp)\n",
    "        return temp"
   ]
  },
  {
   "cell_type": "code",
   "execution_count": 6,
   "metadata": {},
   "outputs": [],
   "source": [
    "model = MySimpleModel().to(device)\n",
    "loss_module = nn.CrossEntropyLoss()\n",
    "optimizer = torch.optim.Adam(model.parameters(), lr=1e-5)"
   ]
  },
  {
   "cell_type": "code",
   "execution_count": 7,
   "metadata": {},
   "outputs": [
    {
     "data": {
      "application/vnd.jupyter.widget-view+json": {
       "model_id": "6546b4ece96e4d918f1b88957b8518bf",
       "version_major": 2,
       "version_minor": 0
      },
      "text/plain": [
       "  0%|          | 0/1000 [00:00<?, ?it/s]"
      ]
     },
     "metadata": {},
     "output_type": "display_data"
    },
    {
     "name": "stdout",
     "output_type": "stream",
     "text": [
      "1.223\n",
      "acc:  tensor(0.2441, device='cuda:0')\n",
      "number of ones: tensor(1024, device='cuda:0')\n",
      "random chance: tensor(0.2441, device='cuda:0')\n",
      "------------------------\n",
      "0.675\n",
      "acc:  tensor(0.7812, device='cuda:0')\n",
      "number of ones: tensor(0, device='cuda:0')\n",
      "random chance: tensor(0.2188, device='cuda:0')\n",
      "------------------------\n",
      "0.532\n",
      "acc:  tensor(0.7803, device='cuda:0')\n",
      "number of ones: tensor(0, device='cuda:0')\n",
      "random chance: tensor(0.2197, device='cuda:0')\n",
      "------------------------\n",
      "0.506\n",
      "acc:  tensor(0.7627, device='cuda:0')\n",
      "number of ones: tensor(0, device='cuda:0')\n",
      "random chance: tensor(0.2373, device='cuda:0')\n",
      "------------------------\n",
      "0.434\n",
      "acc:  tensor(0.8369, device='cuda:0')\n",
      "number of ones: tensor(74, device='cuda:0')\n",
      "random chance: tensor(0.2354, device='cuda:0')\n",
      "------------------------\n",
      "0.177\n",
      "acc:  tensor(0.9824, device='cuda:0')\n",
      "number of ones: tensor(216, device='cuda:0')\n",
      "random chance: tensor(0.2285, device='cuda:0')\n",
      "------------------------\n",
      "0.066\n",
      "acc:  tensor(0.9922, device='cuda:0')\n",
      "number of ones: tensor(232, device='cuda:0')\n",
      "random chance: tensor(0.2344, device='cuda:0')\n",
      "------------------------\n",
      "0.042\n",
      "acc:  tensor(0.9990, device='cuda:0')\n",
      "number of ones: tensor(229, device='cuda:0')\n",
      "random chance: tensor(0.2246, device='cuda:0')\n",
      "------------------------\n",
      "0.031\n",
      "acc:  tensor(0.9990, device='cuda:0')\n",
      "number of ones: tensor(232, device='cuda:0')\n",
      "random chance: tensor(0.2275, device='cuda:0')\n",
      "------------------------\n",
      "0.026\n",
      "acc:  tensor(1., device='cuda:0')\n",
      "number of ones: tensor(250, device='cuda:0')\n",
      "random chance: tensor(0.2441, device='cuda:0')\n",
      "------------------------\n",
      "0.022\n",
      "acc:  tensor(1., device='cuda:0')\n",
      "number of ones: tensor(233, device='cuda:0')\n",
      "random chance: tensor(0.2275, device='cuda:0')\n",
      "------------------------\n"
     ]
    }
   ],
   "source": [
    "loss_history = []\n",
    "max_steps = 1000\n",
    "log_every_steps = 100\n",
    "for i, batch in tqdm(enumerate(loader), total=max_steps):\n",
    "    x = batch['observation'].to(device)\n",
    "    clss = torch.ones((x.shape[0], 1)).long().to(device)\n",
    "    y = batch['exist_1'].to(device)\n",
    "    optimizer.zero_grad()\n",
    "    output = model(x, clss)\n",
    "    loss = loss_module(output, y)\n",
    "    loss_history.append(loss.item())\n",
    "    loss.backward()\n",
    "    optimizer.step()\n",
    "    if i > max_steps:\n",
    "        break\n",
    "    if i % log_every_steps == 0 :\n",
    "        print(\"{:.3f}\".format(sum(loss_history)/len(loss_history)))\n",
    "        loss_history = []\n",
    "        acc = (output.argmax(dim=1) == y).sum() / output.shape[0]\n",
    "        print('acc: ', acc)\n",
    "        print('number of ones:', output.argmax(dim=1).sum())\n",
    "        print('random chance:', y.sum()/output.shape[0])\n",
    "        print('------------------------')"
   ]
  }
 ],
 "metadata": {
  "interpreter": {
   "hash": "73872a7625a445826f9d574d6c0b680d3fefaf18301176724424f6d82d4937fc"
  },
  "kernelspec": {
   "display_name": "Python 3.8.7 ('venv': venv)",
   "language": "python",
   "name": "python3"
  },
  "language_info": {
   "codemirror_mode": {
    "name": "ipython",
    "version": 3
   },
   "file_extension": ".py",
   "mimetype": "text/x-python",
   "name": "python",
   "nbconvert_exporter": "python",
   "pygments_lexer": "ipython3",
   "version": "3.8.7"
  },
  "orig_nbformat": 4
 },
 "nbformat": 4,
 "nbformat_minor": 2
}
